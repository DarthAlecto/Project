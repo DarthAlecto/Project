{
 "cells": [
  {
   "cell_type": "code",
   "execution_count": 1,
   "id": "920ccfca",
   "metadata": {},
   "outputs": [
    {
     "name": "stdout",
     "output_type": "stream",
     "text": [
      "Using device: cpu\n"
     ]
    }
   ],
   "source": [
    "import torch\n",
    "import torch.nn as nn \n",
    "import matplotlib.pyplot as plt \n",
    "\n",
    "from sklearn.model_selection import train_test_split\n",
    "\n",
    "from utils import ALL_LETTERS, N_LETTERS\n",
    "from utils import load_data, line_to_tensor\n",
    "\n",
    "device = torch.device(\"cuda\" if torch.cuda.is_available() else \"cpu\")\n",
    "print('Using device:', device)"
   ]
  },
  {
   "cell_type": "code",
   "execution_count": 2,
   "id": "3a1cc1ae",
   "metadata": {},
   "outputs": [],
   "source": [
    "class RNN(nn.Module):\n",
    "    # implementing RNN from scratch rather than using nn.RNN\n",
    "    def __init__(self, input_size, hidden_size, output_size):\n",
    "        super(RNN, self).__init__()\n",
    "        \n",
    "        self.hidden_size = hidden_size\n",
    "        self.i2h = nn.Linear(input_size + hidden_size, hidden_size)\n",
    "        self.i2o = nn.Linear(input_size + hidden_size, output_size)\n",
    "        \n",
    "    def forward(self, input_tensor, hidden_tensor):\n",
    "        combined = torch.cat((input_tensor, hidden_tensor), 1)\n",
    "        \n",
    "        hidden = self.i2h(combined)\n",
    "        output = self.i2o(combined)\n",
    "        return output, hidden\n",
    "    \n",
    "    def init_hidden(self):\n",
    "        return torch.zeros(1, self.hidden_size)"
   ]
  },
  {
   "cell_type": "code",
   "execution_count": 3,
   "id": "79442b1a",
   "metadata": {},
   "outputs": [],
   "source": [
    "category_lines, all_categories = load_data()\n",
    "n_categories = len(all_categories)\n",
    "n_hidden = 256\n",
    "rnn = RNN(N_LETTERS, n_hidden, n_categories)"
   ]
  },
  {
   "cell_type": "code",
   "execution_count": 4,
   "id": "711fe7a6",
   "metadata": {},
   "outputs": [],
   "source": [
    "# Initializing X and y\n",
    "X = []\n",
    "y = []\n",
    "for category, lines in category_lines.items():\n",
    "    X.extend(lines)\n",
    "    y.extend([category] * len(lines))\n",
    "\n",
    "# Splitting data\n",
    "X_train, X_test, y_train, y_test = train_test_split(X, y, test_size=0.3, random_state=42, stratify=y)"
   ]
  },
  {
   "cell_type": "code",
   "execution_count": 5,
   "id": "fe349fa1",
   "metadata": {},
   "outputs": [],
   "source": [
    "#Creating tensors from data\n",
    "X_train_tensors = [line_to_tensor(name) for name in X_train]\n",
    "X_test_tensors = [line_to_tensor(name) for name in X_test]\n",
    "y_train_tensors = [all_categories.index(category) for category in y_train]\n",
    "y_test_tensors = [all_categories.index(category) for category in y_test]"
   ]
  },
  {
   "cell_type": "code",
   "execution_count": 6,
   "id": "1a7ee225",
   "metadata": {},
   "outputs": [],
   "source": [
    "# # TESTING\n",
    "# # one step\n",
    "# input_tensor = letter_to_tensor('A')\n",
    "# hidden_tensor = rnn.init_hidden()\n",
    "\n",
    "# output, next_hidden = rnn(input_tensor, hidden_tensor)\n",
    "# #print(output.size())\n",
    "# #print(next_hidden.size())\n",
    "\n",
    "# # whole sequence/name\n",
    "# input_tensor = line_to_tensor('Albert')\n",
    "# hidden_tensor = rnn.init_hidden()\n",
    "\n",
    "# output, next_hidden = rnn(input_tensor[0], hidden_tensor)\n",
    "# #print(output.size())\n",
    "# #print(next_hidden.size())"
   ]
  },
  {
   "cell_type": "code",
   "execution_count": 7,
   "id": "d60a75fb",
   "metadata": {},
   "outputs": [],
   "source": [
    "def category_from_output(output):\n",
    "    category_idx = torch.argmax(output).item()\n",
    "    return all_categories[category_idx]\n",
    "\n",
    "# print(category_from_output(output))"
   ]
  },
  {
   "cell_type": "code",
   "execution_count": 8,
   "id": "d87f150e",
   "metadata": {},
   "outputs": [],
   "source": [
    "criterion = nn.CrossEntropyLoss()\n",
    "learning_rate = 0.001\n",
    "optimizer = torch.optim.Adam(rnn.parameters(), lr=learning_rate)\n",
    "\n",
    "def train(line_tensor, category_tensor):\n",
    "    hidden = rnn.init_hidden()\n",
    "    \n",
    "    for i in range(line_tensor.size()[0]):\n",
    "        output, hidden = rnn(line_tensor[i], hidden)\n",
    "        \n",
    "    loss = criterion(output, category_tensor.unsqueeze(0)) # Unsqueeze to add a batch dimension\n",
    "    \n",
    "    optimizer.zero_grad()\n",
    "    loss.backward()\n",
    "    optimizer.step()\n",
    "    \n",
    "    return output, loss.item()"
   ]
  },
  {
   "cell_type": "code",
   "execution_count": 9,
   "id": "e74fad6e",
   "metadata": {},
   "outputs": [],
   "source": [
    "def eval(tensors, labels):\n",
    "    correct = 0\n",
    "    total = len(tensors)\n",
    "    with torch.no_grad():\n",
    "        for i in range(total):\n",
    "            line_tensor = tensors[i]\n",
    "            category_tensor = torch.tensor([labels[i]], dtype=torch.long).to(device)\n",
    "            \n",
    "            hidden = rnn.init_hidden().to(device)\n",
    "            for j in range(line_tensor.size()[0]):\n",
    "                output, hidden = rnn(line_tensor[j], hidden)\n",
    "            \n",
    "            guess = category_from_output(output)\n",
    "            if guess == all_categories[category_tensor.item()]:\n",
    "                correct += 1\n",
    "    return correct / total * 100"
   ]
  },
  {
   "cell_type": "code",
   "execution_count": 10,
   "id": "a24824fb",
   "metadata": {},
   "outputs": [
    {
     "name": "stdout",
     "output_type": "stream",
     "text": [
      "Train Accuracy: 53.18%\n",
      "5000 5.0 4.2724 Kyubei / Russian WRONG (Japanese)\n",
      "Train Accuracy: 63.91%\n",
      "10000 10.0 0.0363 Teterev / Russian CORRECT\n",
      "Train Accuracy: 70.10%\n",
      "15000 15.0 1.6174 Stupka / Russian WRONG (Czech)\n",
      "Train Accuracy: 48.47%\n",
      "20000 20.0 1.9559 Deegan / Russian WRONG (English)\n",
      "Train Accuracy: 70.66%\n",
      "25000 25.0 0.7727 Lakey / English CORRECT\n",
      "Train Accuracy: 71.67%\n",
      "30000 30.0 0.0646 Samaha / Arabic CORRECT\n",
      "Train Accuracy: 67.16%\n",
      "35000 35.0 1.5951 Gutermuth / Russian WRONG (German)\n",
      "Train Accuracy: 65.43%\n",
      "40000 40.0 0.3560 Dobroslavin / Russian CORRECT\n",
      "Train Accuracy: 67.71%\n",
      "45000 45.0 0.6817 Seif / Arabic CORRECT\n",
      "Train Accuracy: 67.34%\n",
      "50000 50.0 0.0005 Bahtov / Russian CORRECT\n",
      "Train Accuracy: 62.10%\n",
      "55000 55.00000000000001 0.1083 Jornyak / Russian CORRECT\n",
      "Train Accuracy: 46.82%\n",
      "60000 60.0 0.0000 Zenkov / Russian CORRECT\n",
      "Train Accuracy: 60.59%\n",
      "65000 65.0 1.2358 Philips / Russian WRONG (English)\n",
      "Train Accuracy: 69.14%\n",
      "70000 70.0 1.0879 Salvaggi / Italian CORRECT\n",
      "Train Accuracy: 57.67%\n",
      "75000 75.0 2.9904 Gross / English WRONG (Russian)\n",
      "Train Accuracy: 69.64%\n",
      "80000 80.0 0.3897 Mifsud / Arabic CORRECT\n",
      "Train Accuracy: 63.37%\n",
      "85000 85.0 0.2288 Boveri / Italian CORRECT\n",
      "Train Accuracy: 38.50%\n",
      "90000 90.0 3.8261 Sekine / Scottish WRONG (Japanese)\n",
      "Train Accuracy: 70.69%\n",
      "95000 95.0 0.2243 Jakon / Russian CORRECT\n",
      "Train Accuracy: 59.78%\n",
      "100000 100.0 2.0004 Ghannam / Russian WRONG (Arabic)\n"
     ]
    }
   ],
   "source": [
    "current_loss = 0\n",
    "all_losses = []\n",
    "plot_steps, print_steps = 1000, 5000\n",
    "n_iters = 100000\n",
    "for epoch in range(n_iters):\n",
    "    idx = epoch % len(X_train_tensors)\n",
    "    line_tensor = X_train_tensors[idx]\n",
    "    category_tensor = torch.tensor(y_train_tensors[idx], device=device)\n",
    "\n",
    "    output, loss = train(line_tensor, category_tensor)\n",
    "    current_loss += loss\n",
    "    \n",
    "    if (epoch + 1) % plot_steps == 0:\n",
    "        all_losses.append(current_loss / plot_steps)\n",
    "        current_loss = 0\n",
    "        \n",
    "    if (epoch + 1) % print_steps == 0:\n",
    "        guess = category_from_output(output)\n",
    "        correct = \"CORRECT\" if guess == y_train[idx] else f\"WRONG ({y_train[idx]})\"\n",
    "        \n",
    "        train_accuracy = eval(X_train_tensors, y_train_tensors)\n",
    "        \n",
    "        print(f\"Train Accuracy: {train_accuracy:.2f}%\")\n",
    "        print(f\"{epoch+1} {(epoch+1)/n_iters*100} {loss:.4f} {X_train[idx]} / {guess} {correct}\")"
   ]
  },
  {
   "cell_type": "code",
   "execution_count": 11,
   "id": "d9fa156b",
   "metadata": {},
   "outputs": [
    {
     "data": {
      "image/png": "[encoded data removed]",
      "text/plain": [
       "<Figure size 640x480 with 1 Axes>"
      ]
     },
     "metadata": {},
     "output_type": "display_data"
    }
   ],
   "source": [
    "plt.figure()\n",
    "plt.plot(all_losses)\n",
    "plt.title('Loss over Epochs')\n",
    "plt.xlabel('Loss')\n",
    "plt.ylabel('Epochs (x1000)')\n",
    "plt.show()"
   ]
  },
  {
   "cell_type": "code",
   "execution_count": 12,
   "id": "394b767a",
   "metadata": {},
   "outputs": [],
   "source": [
    "def predict(input_line):\n",
    "    print(f\"\\n> {input_line}\")\n",
    "    with torch.no_grad():\n",
    "        line_tensor = line_to_tensor(input_line)\n",
    "        \n",
    "        hidden = rnn.init_hidden()\n",
    "    \n",
    "        for i in range(line_tensor.size()[0]):\n",
    "            output, hidden = rnn(line_tensor[i], hidden)\n",
    "        \n",
    "        guess = category_from_output(output)\n",
    "        print(guess)"
   ]
  },
  {
   "cell_type": "code",
   "execution_count": 15,
   "id": "32f2ce21",
   "metadata": {},
   "outputs": [
    {
     "name": "stdout",
     "output_type": "stream",
     "text": [
      "\n",
      "> Albert\n",
      "French\n"
     ]
    }
   ],
   "source": [
    "# User inputted Prediction Test\n",
    "sentence = (\"Albert\")\n",
    "predict(sentence)"
   ]
  },
  {
   "cell_type": "code",
   "execution_count": 14,
   "id": "5037ceeb",
   "metadata": {},
   "outputs": [
    {
     "name": "stdout",
     "output_type": "stream",
     "text": [
      "Test Accuracy: 58.33% | Train Accuracy: 59.78%\n"
     ]
    }
   ],
   "source": [
    "train_acc = eval(X_train_tensors, y_train_tensors)\n",
    "test_acc = eval(X_test_tensors, y_test_tensors)\n",
    "print(f\"Test Accuracy: {test_acc:.2f}% | Train Accuracy: {train_acc:.2f}%\")"
   ]
  }
 ],
 "metadata": {
  "kernelspec": {
   "display_name": "Python 3",
   "language": "python",
   "name": "python3"
  },
  "language_info": {
   "codemirror_mode": {
    "name": "ipython",
    "version": 3
   },
   "file_extension": ".py",
   "mimetype": "text/x-python",
   "name": "python",
   "nbconvert_exporter": "python",
   "pygments_lexer": "ipython3",
   "version": "3.11.1"
  }
 },
 "nbformat": 4,
 "nbformat_minor": 5
}
